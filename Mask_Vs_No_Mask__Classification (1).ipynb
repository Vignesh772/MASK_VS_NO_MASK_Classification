{
  "nbformat": 4,
  "nbformat_minor": 0,
  "metadata": {
    "colab": {
      "name": "Mask_Vs_No_Mask _Classification.ipynb",
      "provenance": [],
      "collapsed_sections": []
    },
    "kernelspec": {
      "name": "python3",
      "display_name": "Python 3"
    }
  },
  "cells": [
    {
      "cell_type": "code",
      "metadata": {
        "id": "m8WDXBPFlh7t",
        "colab_type": "code",
        "colab": {}
      },
      "source": [
        "import tensorflow as tf\n",
        "from tensorflow.keras.preprocessing.image import ImageDataGenerator\n",
        "from tensorflow.keras.optimizers import RMSprop\n",
        "import matplotlib.pyplot as plt\n",
        "import os\n",
        "import zipfile\n",
        "\n",
        "print(tf.__version__)"
      ],
      "execution_count": 0,
      "outputs": []
    },
    {
      "cell_type": "code",
      "metadata": {
        "id": "6cS2dmQClmpq",
        "colab_type": "code",
        "colab": {}
      },
      "source": [
        "!mkdir /root/.kaggle\n",
        "!echo '{\"username\":\"<Your Username>\",\"key\":\"<Your API key>\"}' > /root/.kaggle/kaggle.json\n",
        "\n",
        "!kaggle datasets download -d ahmetfurkandemr/mask-datasets-v1"
      ],
      "execution_count": 0,
      "outputs": []
    },
    {
      "cell_type": "code",
      "metadata": {
        "id": "bBrRBr0J1n7V",
        "colab_type": "code",
        "colab": {}
      },
      "source": [
        "!mkdir /root/.kaggle\n",
        "!echo '{\"username\":\"<Your username>\",\"key\":\"<Your API key>\"}' > /root/.kaggle/kaggle.json\n",
        "\n",
        "!kaggle datasets download -d ahmetfurkandemr/mask-datasets-v1"
      ],
      "execution_count": 0,
      "outputs": []
    },
    {
      "cell_type": "code",
      "metadata": {
        "id": "Uuu1W9x-l2Va",
        "colab_type": "code",
        "colab": {}
      },
      "source": [
        "local_zip_file = '/content/mask-datasets-v1.zip'\n",
        "\n",
        "zip_refs = zipfile.ZipFile(local_zip_file, 'r')\n",
        "\n",
        "zip_refs.extractall('/content')\n",
        "zip_refs.close()"
      ],
      "execution_count": 0,
      "outputs": []
    },
    {
      "cell_type": "code",
      "metadata": {
        "id": "fc-Umlynl5dc",
        "colab_type": "code",
        "colab": {}
      },
      "source": [
        "base_dir = '/content/Mask_Datasets'\n",
        "\n",
        "train_dir = os.path.join( base_dir, 'Train')\n",
        "validation_dir = os.path.join( base_dir, 'Validation')\n",
        "\n",
        "train_mask_dir = os.path.join(train_dir, 'Mask') \n",
        "train_no_mask_dir = os.path.join(train_dir, 'No_mask') \n",
        "\n",
        "validation_mask_dir = os.path.join(validation_dir, 'Mask')\n",
        "validation_no_mask_dir = os.path.join(validation_dir, 'No_mask') \n",
        "\n",
        "train_mask_fnames = os.listdir(train_3_dir)\n",
        "train_no_mask_fnames = os.listdir(train_4_dir)\n",
        "\n",
        "# Add our data-augmentation parameters to ImageDataGenerator\n",
        "train_datagen = ImageDataGenerator(rescale = 1./255,rotation_range=15,\n",
        "                                    width_shift_range=0.15,\n",
        "                                    height_shift_range=0.15,\n",
        "                                    shear_range=0.15,\n",
        "                                    zoom_range=0.15,\n",
        "                                    horizontal_flip=True,)\n",
        "\n",
        "test_datagen = ImageDataGenerator(rescale = 1./255)\n",
        "\n",
        "train_generator = train_datagen.flow_from_directory(train_dir,\n",
        "                                                    batch_size = 32,\n",
        "                                                    class_mode = 'binary', \n",
        "                                                    target_size = (150,150))     \n",
        "\n",
        "validation_generator =  test_datagen.flow_from_directory(validation_dir,\n",
        "                                                        batch_size  = 32,\n",
        "                                                        class_mode  = 'binary', \n",
        "                                                        target_size = (150,150))\n"
      ],
      "execution_count": 0,
      "outputs": []
    },
    {
      "cell_type": "code",
      "metadata": {
        "id": "uuAguy_UmHxl",
        "colab_type": "code",
        "colab": {}
      },
      "source": [
        "model = tf.keras.models.Sequential([\n",
        "    tf.keras.layers.Conv2D(64, (3,3), activation='relu', input_shape=(150, 150, 3)),\n",
        "    tf.keras.layers.MaxPooling2D(2,2),\n",
        "    tf.keras.layers.Conv2D(128, (3,3), activation='relu'),\n",
        "    tf.keras.layers.MaxPooling2D(2,2),\n",
        "    tf.keras.layers.Conv2D(246, (3,3), activation='relu'),\n",
        "    tf.keras.layers.MaxPooling2D(2,2),\n",
        "    tf.keras.layers.Dropout(0.5),\n",
        "    tf.keras.layers.Flatten(),\n",
        "    tf.keras.layers.Dense(128, activation='relu'),\n",
        "    tf.keras.layers.Dense(1, activation='sigmoid')\n",
        "])\n",
        "model.summary()"
      ],
      "execution_count": 0,
      "outputs": []
    },
    {
      "cell_type": "code",
      "metadata": {
        "id": "xrOtI3ZDmrrF",
        "colab_type": "code",
        "colab": {}
      },
      "source": [
        "model.compile(loss = 'binary_crossentropy', optimizer=RMSprop(lr=0.001), \n",
        "              metrics=['accuracy'])\n"
      ],
      "execution_count": 0,
      "outputs": []
    },
    {
      "cell_type": "code",
      "metadata": {
        "id": "YI5Nu40fm2gx",
        "colab_type": "code",
        "colab": {}
      },
      "source": [
        "history = model.fit(train_generator, epochs=100, steps_per_epoch=23,\n",
        "                    validation_data = validation_generator, verbose = 1, \n",
        "                    validation_steps=10)\n"
      ],
      "execution_count": 0,
      "outputs": []
    },
    {
      "cell_type": "code",
      "metadata": {
        "id": "lmeJaM-tm8JB",
        "colab_type": "code",
        "colab": {}
      },
      "source": [
        "t_a=history.history['acc']\n",
        "v_a=history.history['val_acc']\n",
        "plt.plot([i for i in range(0,len(t_a))],t_a)\n",
        "plt.plot([i for i in range(0,len(v_a))],v_a)\n"
      ],
      "execution_count": 0,
      "outputs": []
    },
    {
      "cell_type": "code",
      "metadata": {
        "id": "Dn1uAm7XV6Q-",
        "colab_type": "code",
        "colab": {}
      },
      "source": [
        "import numpy as np\n",
        "import tensorflow as tf\n",
        "from google.colab import files\n",
        "from keras.preprocessing import image\n",
        "\n",
        "uploaded=files.upload()\n",
        "\n",
        "for fn in uploaded.keys():\n",
        " \n",
        "  # predicting images\n",
        "  path='/content/' + fn\n",
        "  img=image.load_img(path, target_size=(150, 150))\n",
        "  \n",
        "  x=image.img_to_array(img)\n",
        "  x=np.expand_dims(x, axis=0)\n",
        "  images = np.vstack([x])\n",
        "  \n",
        "  classes = model.predict(images, batch_size=10)\n",
        "  \n",
        "  \n",
        "  print(classes[0])\n",
        "  if classes[0]>0.5:\n",
        "    print(fn + \" no mask\")\n",
        "    \n",
        "  else:\n",
        "    print(fn + \" is a mask\")\n",
        " "
      ],
      "execution_count": 0,
      "outputs": []
    },
    {
      "cell_type": "code",
      "metadata": {
        "id": "YdIlBRGOWA55",
        "colab_type": "code",
        "colab": {}
      },
      "source": [
        "model.save(\"model2.h5\")"
      ],
      "execution_count": 0,
      "outputs": []
    },
    {
      "cell_type": "code",
      "metadata": {
        "id": "MFsWKqEtWp7H",
        "colab_type": "code",
        "colab": {}
      },
      "source": [
        ""
      ],
      "execution_count": 0,
      "outputs": []
    }
  ]
}